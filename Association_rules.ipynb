{
 "cells": [
  {
   "cell_type": "code",
   "execution_count": 1,
   "metadata": {},
   "outputs": [
    {
     "name": "stdout",
     "output_type": "stream",
     "text": [
      "Starting Spark application\n"
     ]
    },
    {
     "data": {
      "text/html": [
       "<table>\n",
       "<tr><th>ID</th><th>YARN Application ID</th><th>Kind</th><th>State</th><th>Spark UI</th><th>Driver log</th><th>Current session?</th></tr><tr><td>803</td><td>application_1551670200070_0007</td><td>pyspark</td><td>idle</td><td><a target=\"_blank\" href=\"http://data-services3.cs.rutgers.edu:8088/proxy/application_1551670200070_0007/\">Link</a></td><td><a target=\"_blank\" href=\"http://data1.cs.rutgers.edu:8042/node/containerlogs/container_e68_1551670200070_0007_01_000001/ds1560\">Link</a></td><td>✔</td></tr></table>"
      ],
      "text/plain": [
       "<IPython.core.display.HTML object>"
      ]
     },
     "metadata": {},
     "output_type": "display_data"
    },
    {
     "name": "stdout",
     "output_type": "stream",
     "text": [
      "SparkSession available as 'spark'.\n"
     ]
    }
   ],
   "source": [
    "import itertools\n",
    "import pyspark"
   ]
  },
  {
   "cell_type": "code",
   "execution_count": 2,
   "metadata": {},
   "outputs": [],
   "source": [
    "spark.stop()"
   ]
  },
  {
   "cell_type": "code",
   "execution_count": 3,
   "metadata": {},
   "outputs": [],
   "source": [
    "sc=pyspark.SparkContext(\"local\",\"Apriori\")"
   ]
  },
  {
   "cell_type": "code",
   "execution_count": 4,
   "metadata": {},
   "outputs": [],
   "source": [
    "text_input = sc.textFile(\"browsing.txt\")"
   ]
  },
  {
   "cell_type": "code",
   "execution_count": 5,
   "metadata": {},
   "outputs": [
    {
     "name": "stdout",
     "output_type": "stream",
     "text": [
      "31101"
     ]
    }
   ],
   "source": [
    "from operator import add\n",
    "no_of_baskets = text_input.map(lambda line: line.split()).count()\n",
    "no_of_baskets"
   ]
  },
  {
   "cell_type": "code",
   "execution_count": 6,
   "metadata": {},
   "outputs": [
    {
     "name": "stdout",
     "output_type": "stream",
     "text": [
      "[['FRO11987', 'ELE17451', 'ELE89019', 'SNA90258', 'GRO99222'], ['GRO99222', 'GRO12298', 'FRO12685', 'ELE91550', 'SNA11465', 'ELE26917', 'ELE52966', 'FRO90334', 'SNA30755', 'ELE17451', 'FRO84225', 'SNA80192'], ['ELE17451', 'GRO73461', 'DAI22896', 'SNA99873', 'FRO86643'], ['ELE17451', 'ELE37798', 'FRO86643', 'GRO56989', 'ELE23393', 'SNA11465'], ['ELE17451', 'SNA69641', 'FRO86643', 'FRO78087', 'SNA11465', 'GRO39357', 'ELE28573', 'ELE11375', 'DAI54444'], ['ELE17451', 'GRO73461', 'DAI22896', 'SNA99873', 'FRO18919', 'DAI50921', 'SNA80192', 'GRO75578'], ['ELE17451', 'ELE59935', 'FRO18919', 'ELE23393', 'SNA80192', 'SNA85662', 'SNA91554', 'DAI22177'], ['ELE17451', 'SNA69641', 'FRO18919', 'SNA90258', 'ELE28573', 'ELE11375', 'DAI14125', 'FRO78087'], ['ELE17451', 'GRO73461', 'DAI22896', 'SNA80192', 'SNA85662', 'SNA90258', 'DAI46755', 'FRO81176', 'ELE66810', 'DAI49199', 'DAI91535', 'GRO94758', 'ELE94711', 'DAI22177'], ['ELE17451', 'SNA69641', 'DAI91535', 'GRO94758', 'GRO99222', 'FRO76833', 'FRO81176', 'SNA80192', 'DAI54690', 'ELE37798', 'GRO56989']]"
     ]
    }
   ],
   "source": [
    "txt_RDD = text_input.map(lambda line:line.split())\n",
    "txt_RDD.take(10)"
   ]
  },
  {
   "cell_type": "code",
   "execution_count": 7,
   "metadata": {},
   "outputs": [
    {
     "name": "stdout",
     "output_type": "stream",
     "text": [
      "[('FRO11987', 104), ('ELE17451', 3875), ('ELE89019', 38), ('SNA90258', 550), ('GRO99222', 906), ('GRO12298', 385), ('FRO12685', 23), ('ELE91550', 23), ('SNA11465', 142), ('ELE26917', 2292)]"
     ]
    }
   ],
   "source": [
    "individual_counts = text_input.flatMap(lambda line: line.split()).map(lambda x: (x,1)).reduceByKey(add)\n",
    "individual_counts.take(10)"
   ]
  },
  {
   "cell_type": "code",
   "execution_count": 8,
   "metadata": {},
   "outputs": [
    {
     "name": "stdout",
     "output_type": "stream",
     "text": [
      "[('DAI11223', 155), ('DAI11778', 117), ('DAI13194', 116), ('DAI13266', 181), ('DAI13788', 213), ('DAI13902', 233), ('DAI14125', 163), ('DAI14181', 110), ('DAI14470', 153), ('DAI15681', 132)]"
     ]
    }
   ],
   "source": [
    "freq_items_counts = individual_counts.filter(lambda x: x[1]>=100).sortBy(lambda x: x[0])\n",
    "freq_items_counts.take(10)"
   ]
  },
  {
   "cell_type": "code",
   "execution_count": 9,
   "metadata": {},
   "outputs": [],
   "source": [
    "freq_items_counts_list = individual_counts.filter(lambda x: x[1]>=100).sortBy(lambda x: x[0]).collect()"
   ]
  },
  {
   "cell_type": "code",
   "execution_count": 10,
   "metadata": {},
   "outputs": [
    {
     "name": "stdout",
     "output_type": "stream",
     "text": [
      "['DAI11223', 'DAI11778', 'DAI13194', 'DAI13266', 'DAI13788', 'DAI13902', 'DAI14125', 'DAI14181', 'DAI14470', 'DAI15681']"
     ]
    }
   ],
   "source": [
    "freq_items = freq_items_counts.map(lambda x: x[0])\n",
    "freq_items.take(10)"
   ]
  },
  {
   "cell_type": "code",
   "execution_count": 11,
   "metadata": {},
   "outputs": [],
   "source": [
    "freq_items_list = freq_items_counts.map(lambda x: x[0]).collect()"
   ]
  },
  {
   "cell_type": "code",
   "execution_count": 12,
   "metadata": {},
   "outputs": [
    {
     "name": "stdout",
     "output_type": "stream",
     "text": [
      "['DAI11223', 'DAI11778', 'DAI13194', 'DAI13266', 'DAI13788', 'DAI13902', 'DAI14125', 'DAI14181', 'DAI14470', 'DAI15681']"
     ]
    }
   ],
   "source": [
    "freq_items_list[:10]"
   ]
  },
  {
   "cell_type": "code",
   "execution_count": 13,
   "metadata": {},
   "outputs": [
    {
     "name": "stdout",
     "output_type": "stream",
     "text": [
      "647"
     ]
    }
   ],
   "source": [
    "no_of_freq_items=freq_items.count()\n",
    "no_of_freq_items"
   ]
  },
  {
   "cell_type": "code",
   "execution_count": 14,
   "metadata": {},
   "outputs": [],
   "source": [
    "def filter_and_pair(lst):\n",
    "    ret=[]\n",
    "    pairs=[]\n",
    "    for i in lst:\n",
    "        if i in freq_items_list:\n",
    "            ret.append(i)\n",
    "    ret.sort()\n",
    "    for pair in itertools.combinations(ret,2):\n",
    "        pairs.append((pair,1))\n",
    "    return(pairs)"
   ]
  },
  {
   "cell_type": "code",
   "execution_count": 15,
   "metadata": {},
   "outputs": [],
   "source": [
    "def filter_2(lst):\n",
    "    ret=[]\n",
    "    trips=[]\n",
    "    for i in lst:\n",
    "        if i in freq_items_2:\n",
    "            ret.append(i)\n",
    "    ret.sort()\n",
    "    for trip in itertools.combinations(ret,3):\n",
    "        trips.append(((trip),1))\n",
    "    return(trips)"
   ]
  },
  {
   "cell_type": "code",
   "execution_count": 16,
   "metadata": {},
   "outputs": [],
   "source": [
    "def confidence(elem):\n",
    "    lst=[]\n",
    "    conf1 = elem[1]/(freq_pair_counts.filter(lambda x: x[0]==elem[0][0]).collect())[0][1]\n",
    "    conf2 = elem[1]/(freq_items_counts.filter(lambda x: x[0]==elem[0][1]).collect())[0][1]\n",
    "    lst.append(((elem[0],elem[1]),conf1))\n",
    "    lst.append(((elem[1],elem[0]),conf2))\n",
    "    return(lst)\n",
    "    "
   ]
  },
  {
   "cell_type": "code",
   "execution_count": 17,
   "metadata": {},
   "outputs": [],
   "source": [
    "def confidence2(elem):\n",
    "    lii=[]\n",
    "    for i in (itertools.combinations(elem[0],2)):\n",
    "        conf=elem[1]/(freq_pair_counts.filter(lambda X: x[0]==i)).collect[0][1]\n",
    "        lii.append((i,conf))\n",
    "    ret(lii)"
   ]
  },
  {
   "cell_type": "code",
   "execution_count": 18,
   "metadata": {},
   "outputs": [
    {
     "name": "stdout",
     "output_type": "stream",
     "text": [
      "[(('DAI11223', 'DAI13194'), 1), (('DAI11223', 'DAI13266'), 1), (('DAI11223', 'DAI13902'), 2), (('DAI11223', 'DAI20585'), 1), (('DAI11223', 'DAI22177'), 17), (('DAI11223', 'DAI22240'), 7), (('DAI11223', 'DAI22534'), 1), (('DAI11223', 'DAI22896'), 7), (('DAI11223', 'DAI25796'), 1), (('DAI11223', 'DAI26369'), 3)]"
     ]
    }
   ],
   "source": [
    "pair_counts = txt_RDD.flatMap(lambda x: filter_and_pair(x)).reduceByKey(add).sortBy( lambda x: x[0])\n",
    "pair_counts.take(10)"
   ]
  },
  {
   "cell_type": "code",
   "execution_count": 19,
   "metadata": {
    "scrolled": true
   },
   "outputs": [
    {
     "name": "stdout",
     "output_type": "stream",
     "text": [
      "[(('DAI16732', 'FRO78087'), 106), (('DAI18527', 'SNA44451'), 102), (('DAI22177', 'DAI31081'), 127), (('DAI22177', 'DAI62779'), 382), (('DAI22177', 'DAI63921'), 136), (('DAI22177', 'DAI75645'), 123), (('DAI22177', 'DAI83733'), 126), (('DAI22177', 'DAI85309'), 172), (('DAI22177', 'ELE17451'), 203), (('DAI22177', 'ELE26917'), 134)]"
     ]
    }
   ],
   "source": [
    "freq_pair_counts = pair_counts.filter(lambda x: x[1]>=100)\n",
    "freq_pair_counts.take(10)\n",
    "freq_pair_counts_list = freq_pair_counts.collect()\n",
    "freq_pair_counts_list[:10]\n"
   ]
  },
  {
   "cell_type": "code",
   "execution_count": 20,
   "metadata": {},
   "outputs": [
    {
     "name": "stdout",
     "output_type": "stream",
     "text": [
      "[('DAI16732', 'FRO78087'), ('DAI18527', 'SNA44451'), ('DAI22177', 'DAI31081'), ('DAI22177', 'DAI62779'), ('DAI22177', 'DAI63921'), ('DAI22177', 'DAI75645'), ('DAI22177', 'DAI83733'), ('DAI22177', 'DAI85309'), ('DAI22177', 'ELE17451'), ('DAI22177', 'ELE26917')]"
     ]
    }
   ],
   "source": [
    "freq_pairs = freq_pair_counts.map(lambda x: x[0])\n",
    "freq_pairs.take(10)"
   ]
  },
  {
   "cell_type": "code",
   "execution_count": 21,
   "metadata": {},
   "outputs": [],
   "source": [
    "conf_lst=[]\n",
    "for i in freq_pair_counts_list:\n",
    "    conf1 = i[1]/(freq_items_counts.filter(lambda x: x[0]==i[0][0]).collect())[0][1]\n",
    "    conf2 = i[1]/(freq_items_counts.filter(lambda x: x[0]==i[0][1]).collect())[0][1]\n",
    "    conf_lst.append(((i[0][0],i[0][1]),conf1))\n",
    "    conf_lst.append(((i[0][1],i[0][0]),conf2))"
   ]
  },
  {
   "cell_type": "code",
   "execution_count": 22,
   "metadata": {},
   "outputs": [
    {
     "name": "stdout",
     "output_type": "stream",
     "text": [
      "[(('DAI93865', 'FRO40251'), 1.0), (('GRO85051', 'FRO40251'), 0.999176276771005), (('GRO38636', 'FRO40251'), 0.9906542056074766), (('ELE12951', 'FRO40251'), 0.9905660377358491), (('DAI88079', 'FRO40251'), 0.9867256637168141)]"
     ]
    }
   ],
   "source": [
    "conf_lst.sort(key=lambda x: -x[1])\n",
    "conf_lst[:5]"
   ]
  },
  {
   "cell_type": "code",
   "execution_count": 23,
   "metadata": {},
   "outputs": [
    {
     "name": "stdout",
     "output_type": "stream",
     "text": [
      "['DAI16732', 'FRO78087', 'DAI18527', 'SNA44451', 'DAI22177', 'DAI31081', 'DAI22177', 'DAI62779', 'DAI22177', 'DAI63921']"
     ]
    }
   ],
   "source": [
    "freq_items_2 = freq_pairs.flatMap(lambda x: x).collect()\n",
    "freq_items_2[:10]"
   ]
  },
  {
   "cell_type": "code",
   "execution_count": 24,
   "metadata": {},
   "outputs": [
    {
     "name": "stdout",
     "output_type": "stream",
     "text": [
      "[(('DAI16732', 'DAI18527', 'DAI35347'), 2), (('DAI16732', 'DAI18527', 'DAI59508'), 2), (('DAI16732', 'DAI18527', 'DAI62779'), 1), (('DAI16732', 'DAI18527', 'DAI63921'), 2), (('DAI16732', 'DAI18527', 'DAI85309'), 1), (('DAI16732', 'DAI18527', 'DAI95741'), 1), (('DAI16732', 'DAI18527', 'ELE12792'), 1), (('DAI16732', 'DAI18527', 'ELE12845'), 1), (('DAI16732', 'DAI18527', 'ELE20398'), 1), (('DAI16732', 'DAI18527', 'ELE21353'), 3)]"
     ]
    }
   ],
   "source": [
    "trips_counts = txt_RDD.flatMap(lambda x: filter_2(x)).reduceByKey(add).sortBy(lambda x: x[0])\n",
    "trips_counts.take(10)"
   ]
  },
  {
   "cell_type": "code",
   "execution_count": 25,
   "metadata": {},
   "outputs": [
    {
     "name": "stdout",
     "output_type": "stream",
     "text": [
      "[(('DAI22896', 'DAI62779', 'GRO73461'), 101), (('DAI23334', 'DAI62779', 'ELE92920'), 143), (('DAI31081', 'DAI62779', 'ELE17451'), 103), (('DAI31081', 'DAI75645', 'FRO40251'), 122), (('DAI31081', 'ELE32164', 'GRO59710'), 112), (('DAI31081', 'FRO40251', 'GRO85051'), 102), (('DAI31081', 'FRO40251', 'SNA80324'), 103), (('DAI42083', 'DAI62779', 'DAI92600'), 105), (('DAI42083', 'DAI92600', 'ELE17451'), 117), (('DAI42493', 'DAI62779', 'ELE17451'), 112)]"
     ]
    }
   ],
   "source": [
    "freq_trips = trips_counts.filter(lambda x: x[1]>=100)\n",
    "freq_trips.take(10)"
   ]
  },
  {
   "cell_type": "code",
   "execution_count": 26,
   "metadata": {},
   "outputs": [],
   "source": [
    "freq_trips_list = trips_counts.filter(lambda x: x[1]>=100).collect()\n",
    "conf_trips=[]\n",
    "for i in freq_trips_list:\n",
    "    a=set(i[0])\n",
    "    for j in (itertools.combinations(i[0],2)):\n",
    "        b=set(j)\n",
    "        c=list(a-b)\n",
    "        conf=i[1]/(freq_pair_counts.filter(lambda x: x[0]==j)).collect()[0][1]\n",
    "        conf_trips.append(((j,c[0]),conf))"
   ]
  },
  {
   "cell_type": "code",
   "execution_count": 27,
   "metadata": {},
   "outputs": [],
   "source": [
    "conf_trips.sort(key = lambda x: -x[1])"
   ]
  },
  {
   "cell_type": "code",
   "execution_count": 28,
   "metadata": {},
   "outputs": [
    {
     "name": "stdout",
     "output_type": "stream",
     "text": [
      "[((('DAI23334', 'ELE92920'), 'DAI62779'), 1.0), ((('DAI31081', 'GRO85051'), 'FRO40251'), 1.0), ((('DAI55911', 'GRO85051'), 'FRO40251'), 1.0), ((('DAI62779', 'DAI88079'), 'FRO40251'), 1.0), ((('DAI75645', 'GRO85051'), 'FRO40251'), 1.0)]"
     ]
    }
   ],
   "source": [
    "conf_trips[:5]"
   ]
  }
 ],
 "metadata": {
  "kernelspec": {
   "display_name": "PySpark",
   "language": "",
   "name": "pysparkkernel"
  },
  "language_info": {
   "codemirror_mode": {
    "name": "python",
    "version": 2
   },
   "mimetype": "text/x-python",
   "name": "pyspark",
   "pygments_lexer": "python2"
  }
 },
 "nbformat": 4,
 "nbformat_minor": 2
}
